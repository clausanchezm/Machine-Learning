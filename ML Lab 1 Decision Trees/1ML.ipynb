{
 "cells": [
  {
   "cell_type": "code",
   "execution_count": 2,
   "id": "be380d53",
   "metadata": {},
   "outputs": [],
   "source": [
    "import pandas as pd\n",
    "import sklearn\n",
    "from sklearn import tree\n",
    "from sklearn.metrics import accuracy_score\n",
    "from sklearn.model_selection import train_test_split\n",
    "import matplotlib.pyplot as plt"
   ]
  },
  {
   "cell_type": "markdown",
   "id": "17eba68f",
   "metadata": {},
   "source": [
    "Reading data of file and classifying it in dependent and independent variables (Y)\n"
   ]
  },
  {
   "cell_type": "code",
   "execution_count": 19,
   "id": "07b0e39b",
   "metadata": {},
   "outputs": [],
   "source": [
    "data = pd.read_csv('C:/Users/33789/Downloads/diabetes.csv')\n",
    "Y = data['class']\n",
    "X = data.drop(['class'],axis=1)"
   ]
  },
  {
   "cell_type": "markdown",
   "id": "96649522",
   "metadata": {},
   "source": [
    "Splitting data into training and testing"
   ]
  },
  {
   "cell_type": "code",
   "execution_count": 20,
   "id": "33681f77",
   "metadata": {},
   "outputs": [],
   "source": [
    "X_train, X_test, Y_train, Y_test = train_test_split(X, Y, \n",
    "test_size=0.34, random_state=10)\n"
   ]
  },
  {
   "cell_type": "markdown",
   "id": "932f3a48",
   "metadata": {},
   "source": [
    "Creating new decision tree, in thi scase with depth= 1 "
   ]
  },
  {
   "cell_type": "markdown",
   "id": "9f33ce09",
   "metadata": {},
   "source": [
    "clf = tree.DecisionTreeClassifier(criterion = 'entropy', max_depth=1)"
   ]
  },
  {
   "cell_type": "markdown",
   "id": "703c0aec",
   "metadata": {},
   "source": [
    "Fitting training data into our decision tree "
   ]
  },
  {
   "cell_type": "code",
   "execution_count": 26,
   "id": "7655ecb3",
   "metadata": {},
   "outputs": [],
   "source": [
    "clf = clf.fit(X_train, Y_train)"
   ]
  },
  {
   "cell_type": "markdown",
   "id": "cba8429f",
   "metadata": {},
   "source": [
    "Generating predictions of indep var from data "
   ]
  },
  {
   "cell_type": "code",
   "execution_count": 27,
   "id": "010ccb7f",
   "metadata": {},
   "outputs": [],
   "source": [
    "Ypredicted = clf.predict(X_train)"
   ]
  },
  {
   "cell_type": "markdown",
   "id": "728f0712",
   "metadata": {},
   "source": [
    "Computing accuracy between the predictions to test data (we know this one is true ) "
   ]
  },
  {
   "cell_type": "code",
   "execution_count": 28,
   "id": "805614ea",
   "metadata": {},
   "outputs": [],
   "source": [
    "acc = accuracy_score(Y_train, Ypredicted)"
   ]
  },
  {
   "cell_type": "code",
   "execution_count": 29,
   "id": "6fe0d227",
   "metadata": {},
   "outputs": [
    {
     "name": "stdout",
     "output_type": "stream",
     "text": [
      "0.7648221343873518\n"
     ]
    }
   ],
   "source": [
    "print(acc)"
   ]
  },
  {
   "cell_type": "code",
   "execution_count": 31,
   "id": "bcc771ac",
   "metadata": {},
   "outputs": [],
   "source": [
    "Ypredicted_test = clf.predict(X_test)"
   ]
  },
  {
   "cell_type": "code",
   "execution_count": 32,
   "id": "69299ef1",
   "metadata": {},
   "outputs": [],
   "source": [
    "acc = accuracy_score(Y_test, Ypredicted_test)"
   ]
  },
  {
   "cell_type": "code",
   "execution_count": 33,
   "id": "685dd7ba",
   "metadata": {},
   "outputs": [
    {
     "name": "stdout",
     "output_type": "stream",
     "text": [
      "0.7213740458015268\n"
     ]
    }
   ],
   "source": [
    "print(acc\n",
    "     )"
   ]
  },
  {
   "cell_type": "markdown",
   "id": "2511e94e",
   "metadata": {},
   "source": [
    "As we can see the training accuracy is slighty higher than the testing accuracy, since this one-depth tree was trained with training data and thus having a greater accuracy "
   ]
  },
  {
   "cell_type": "code",
   "execution_count": 35,
   "id": "ece3c707",
   "metadata": {},
   "outputs": [],
   "source": [
    "clf2 = tree.DecisionTreeClassifier(criterion = 'entropy', max_depth = None)"
   ]
  },
  {
   "cell_type": "code",
   "execution_count": 36,
   "id": "6e7f9b2a",
   "metadata": {},
   "outputs": [],
   "source": [
    "clf2 = clf2.fit(X_train, Y_train)"
   ]
  },
  {
   "cell_type": "code",
   "execution_count": 37,
   "id": "41721838",
   "metadata": {},
   "outputs": [
    {
     "name": "stdout",
     "output_type": "stream",
     "text": [
      "1.0\n"
     ]
    }
   ],
   "source": [
    "Ypredicted2 = clf2.predict(X_train)\n",
    "acc2 = accuracy_score(Y_train, Ypredicted2)\n",
    "print(acc2)"
   ]
  },
  {
   "cell_type": "code",
   "execution_count": 39,
   "id": "68f3f798",
   "metadata": {},
   "outputs": [
    {
     "name": "stdout",
     "output_type": "stream",
     "text": [
      "0.7442748091603053\n"
     ]
    }
   ],
   "source": [
    "Ypredicted_test2 = clf2.predict(X_test)\n",
    "acc = accuracy_score(Y_test, Ypredicted_test2)\n",
    "print(acc)\n"
   ]
  },
  {
   "cell_type": "markdown",
   "id": "9755bc54",
   "metadata": {},
   "source": [
    "As we can see the accuracy for the training data is 1, this makes sense since the decision tree has no limit on depths and can be modelled exactly as the data provided, compared to one-depth tree that had 0.76 for the training accuracy since it has a boundary of 1 ply for the entire tree, making it much more inaccurate. \n",
    "As in for the testing accuracy the multiple-depths tree exceeds the one-depth but not for too much having 0.74 and 0.72 respectively. The later is explained since the multi-layered tree is expected to be modelled from the data provided and teh other one is modelled by the data given that there is a maximum of one level. Nevertheless, I was expecting this difference in teting-accuracy be much more significant\n"
   ]
  },
  {
   "cell_type": "code",
   "execution_count": 41,
   "id": "d222a36d",
   "metadata": {},
   "outputs": [],
   "source": [
    "clf = tree.DecisionTreeClassifier(criterion = 'entropy', min_samples_leaf = 768)"
   ]
  },
  {
   "cell_type": "markdown",
   "id": "872cb556",
   "metadata": {},
   "source": [
    "given that there is 768 instances, put the size on min_samples_leafs"
   ]
  },
  {
   "cell_type": "code",
   "execution_count": 43,
   "id": "41bf12a7",
   "metadata": {},
   "outputs": [
    {
     "name": "stdout",
     "output_type": "stream",
     "text": [
      "traing data acc\n",
      "0.6561264822134387\n",
      "testing data acc\n",
      "0.6412213740458015\n"
     ]
    }
   ],
   "source": [
    "clf = clf.fit(X_train, Y_train)\n",
    "Ypredicted = clf.predict(X_train)\n",
    "acc = accuracy_score(Y_train, Ypredicted)\n",
    "print('traing data acc')\n",
    "print(acc )\n",
    "Ypredicted_test = clf.predict(X_test)\n",
    "acc2 = accuracy_score(Y_test, Ypredicted_test)\n",
    "print('testing data acc')\n",
    "print(acc2 )"
   ]
  },
  {
   "cell_type": "markdown",
   "id": "1c26352a",
   "metadata": {},
   "source": [
    "Comparing all accuracies obtained, this later one  is the smallest yet. This might be because by instantating a tree that has a minimum number of leafs of the size of the dataset it obliges it to have all nodes as leafs, making it a one-depth tree, making the tree solely of the root and then all the leaf nodes that in the multi_level tree would correspond to different plys where the classification fo the instances help a better model and hence a higher accuracy  "
   ]
  },
  {
   "cell_type": "code",
   "execution_count": 56,
   "id": "abd0f325",
   "metadata": {},
   "outputs": [
    {
     "data": {
      "text/plain": [
       "Text(0, 0.5, 'Accuray of Decision tree ')"
      ]
     },
     "execution_count": 56,
     "metadata": {},
     "output_type": "execute_result"
    },
    {
     "data": {
      "image/png": "[encoded data removed]",
      "text/plain": [
       "<Figure size 432x288 with 1 Axes>"
      ]
     },
     "metadata": {
      "needs_background": "light"
     },
     "output_type": "display_data"
    }
   ],
   "source": [
    "accuracy = []\n",
    "size_of_tree = []\n",
    "for x in range(1, 769, 5):\n",
    "    clf = tree.DecisionTreeClassifier(criterion = 'entropy', min_samples_leaf = x, max_depth = None)\n",
    "    size_of_tree.append(x)\n",
    "    clf = clf.fit(X_train, Y_train)\n",
    "    Ypredicted_test = clf.predict(X_test)\n",
    "    acc = accuracy_score(Y_test, Ypredicted_test)\n",
    "    accuracy.append(acc)\n",
    "\n",
    "plt.plot(size_of_tree, accuracy)\n",
    "plt.xlabel('Minimum number of sample leafs ')\n",
    "plt.ylabel('Accuray of Decision tree ')\n",
    "    "
   ]
  },
  {
   "cell_type": "markdown",
   "id": "84e08baf",
   "metadata": {},
   "source": [
    "*the range is until 769 since this last number won't be tested thus ensuring 768 will be tested if it falls in the steps of 5"
   ]
  },
  {
   "cell_type": "code",
   "execution_count": 57,
   "id": "55306ff6",
   "metadata": {},
   "outputs": [
    {
     "data": {
      "text/plain": [
       "<matplotlib.legend.Legend at 0x165b49a7df0>"
      ]
     },
     "execution_count": 57,
     "metadata": {},
     "output_type": "execute_result"
    },
    {
     "data": {
      "image/png": "[encoded data removed]",
      "text/plain": [
       "<Figure size 432x288 with 1 Axes>"
      ]
     },
     "metadata": {
      "needs_background": "light"
     },
     "output_type": "display_data"
    }
   ],
   "source": [
    "train = []\n",
    "test = []\n",
    "size_of_tree = []\n",
    "\n",
    "for x in range(1, 769, 5):\n",
    "    clf = tree.DecisionTreeClassifier(criterion = 'entropy', min_samples_leaf = x, max_depth = None)\n",
    "    size_of_tree.append(x)\n",
    "    clf = clf.fit(X_train, Y_train)\n",
    "    Ypredicted_train = clf.predict(X_train)\n",
    "    Ypredicted_test = clf.predict(X_test)\n",
    "    test.append(accuracy_score(Y_test, Ypredicted_test))\n",
    "    train.append(accuracy_score(Y_train, Ypredicted_train))\n",
    "\n",
    "plt.plot(train, label= 'train')\n",
    "plt.plot(test, label = 'test')\n",
    "plt.xlabel('Size of minimum sample leafs')\n",
    "plt.ylabel('Accuray of Decision tree ')\n",
    "plt.legend(loc='upper center')"
   ]
  },
  {
   "cell_type": "markdown",
   "id": "df6299a9",
   "metadata": {},
   "source": [
    "In the previous plot, we can only see overfitting. The graph should be read right to left, as the tree grows bigger, ie less minimum amount of sample leafs ( since the rest of nodes will be internal nodes), the difference between the accuracy of the training data and the testing data grows apart. So when we reach the most left values the accuracy of the training data is 1 (we saw this when we created a multileveled tree ) and the testing accuracy only reaches 0.75, thus a clear example of overfitting the data. \n",
    "At the beginning, when both accuracies lines are parallel, we can classify this as underfitting. \n",
    "\n"
   ]
  },
  {
   "cell_type": "markdown",
   "id": "88f9f40b",
   "metadata": {},
   "source": [
    "# glass dataset\n"
   ]
  },
  {
   "cell_type": "markdown",
   "id": "15820541",
   "metadata": {},
   "source": [
    "experiment in the same manner with different dataset, namely glass.csv\n"
   ]
  },
  {
   "cell_type": "code",
   "execution_count": 59,
   "id": "c6ffbfe8",
   "metadata": {},
   "outputs": [],
   "source": [
    "data = pd.read_csv('C:/Users/33789/Downloads/glass.csv')\n",
    "Y = data['class']\n",
    "X = data.drop(['class'],axis=1)"
   ]
  },
  {
   "cell_type": "code",
   "execution_count": 60,
   "id": "494f2d2e",
   "metadata": {},
   "outputs": [],
   "source": [
    "X_train, X_test, Y_train, Y_test = train_test_split(X, Y, \n",
    "test_size=0.34, random_state=10)"
   ]
  },
  {
   "cell_type": "markdown",
   "id": "3cd7c28f",
   "metadata": {},
   "source": [
    "creating one depth tree "
   ]
  },
  {
   "cell_type": "code",
   "execution_count": 61,
   "id": "cf2a3ea4",
   "metadata": {},
   "outputs": [],
   "source": [
    "clf = tree.DecisionTreeClassifier(criterion = 'entropy', max_depth=1)\n",
    "clf = clf.fit(X_train, Y_train)"
   ]
  },
  {
   "cell_type": "code",
   "execution_count": 62,
   "id": "67b78c1f",
   "metadata": {},
   "outputs": [
    {
     "name": "stdout",
     "output_type": "stream",
     "text": [
      "0.46099290780141844\n"
     ]
    }
   ],
   "source": [
    "Ypredicted = clf.predict(X_train)\n",
    "acc = accuracy_score(Y_train, Ypredicted)\n",
    "print (acc)"
   ]
  },
  {
   "cell_type": "markdown",
   "id": "3370049b",
   "metadata": {},
   "source": [
    "accuracy of testing data"
   ]
  },
  {
   "cell_type": "code",
   "execution_count": 67,
   "id": "aca0da48",
   "metadata": {},
   "outputs": [
    {
     "name": "stdout",
     "output_type": "stream",
     "text": [
      "0.4246575342465753\n"
     ]
    }
   ],
   "source": [
    "Ypredicted_test2 = clf.predict(X_test)\n",
    "acc = accuracy_score(Y_test, Ypredicted_test2)\n",
    "print(acc)"
   ]
  },
  {
   "cell_type": "markdown",
   "id": "8bc19900",
   "metadata": {},
   "source": [
    "Indeed test accuracy is lower than train accuracy"
   ]
  },
  {
   "cell_type": "markdown",
   "id": "bfab5f51",
   "metadata": {},
   "source": [
    "Multi-level decision tree"
   ]
  },
  {
   "cell_type": "code",
   "execution_count": 69,
   "id": "3df932ee",
   "metadata": {},
   "outputs": [],
   "source": [
    "clf2 = tree.DecisionTreeClassifier(criterion = 'entropy', max_depth = None)\n",
    "clf2 = clf2.fit(X_train, Y_train)"
   ]
  },
  {
   "cell_type": "code",
   "execution_count": 70,
   "id": "82a9226e",
   "metadata": {},
   "outputs": [
    {
     "name": "stdout",
     "output_type": "stream",
     "text": [
      "1.0\n"
     ]
    }
   ],
   "source": [
    "Ypredicted2 = clf2.predict(X_train)\n",
    "acc2 = accuracy_score(Y_train, Ypredicted2)\n",
    "print(acc2)"
   ]
  },
  {
   "cell_type": "code",
   "execution_count": 71,
   "id": "60a1506c",
   "metadata": {},
   "outputs": [
    {
     "name": "stdout",
     "output_type": "stream",
     "text": [
      "0.6301369863013698\n"
     ]
    }
   ],
   "source": [
    "Ypredicted2_test = clf2.predict(X_test)\n",
    "acc2 = accuracy_score(Y_test, Ypredicted2_test)\n",
    "print(acc2)"
   ]
  },
  {
   "cell_type": "markdown",
   "id": "8fc396f3",
   "metadata": {},
   "source": [
    "Multilevel tree has a much higher accuracy than onelevel tree given that thanks to the multiple levels it helps models better the data and thus be more accurate"
   ]
  },
  {
   "cell_type": "markdown",
   "id": "04074554",
   "metadata": {},
   "source": [
    "Testing pre-pruning error by modifing the number of leafs the decision tree has "
   ]
  },
  {
   "cell_type": "code",
   "execution_count": 73,
   "id": "08317c03",
   "metadata": {},
   "outputs": [],
   "source": [
    "clf = tree.DecisionTreeClassifier(criterion = 'entropy', min_samples_leaf = 768)"
   ]
  },
  {
   "cell_type": "code",
   "execution_count": 74,
   "id": "317b4ea2",
   "metadata": {},
   "outputs": [
    {
     "name": "stdout",
     "output_type": "stream",
     "text": [
      "0.3546099290780142\n"
     ]
    }
   ],
   "source": [
    "clf = clf.fit(X_train, Y_train)\n",
    "Ypredicted = clf.predict(X_train)\n",
    "acc = accuracy_score(Y_train, Ypredicted)\n",
    "print(acc )\n"
   ]
  },
  {
   "cell_type": "code",
   "execution_count": 75,
   "id": "9fbc9cab",
   "metadata": {},
   "outputs": [
    {
     "name": "stdout",
     "output_type": "stream",
     "text": [
      "testing data acc\n",
      "0.3561643835616438\n"
     ]
    }
   ],
   "source": [
    "Ypredicted_test = clf.predict(X_test)\n",
    "acc2 = accuracy_score(Y_test, Ypredicted_test)\n",
    "print('testing data acc')\n",
    "print(acc2 )"
   ]
  },
  {
   "cell_type": "markdown",
   "id": "153a8d9f",
   "metadata": {},
   "source": [
    "The difference in accuracy of testing and training are surprinsingly small, this might be explained by the already relative low accuracy we obtained at the beginning while using the glass-dataset, and now computing the accuracy of a decision tree that has all nodes as leafs but the root returns us a even smaller accuracy. (this makes sense since this decision tree is not optimal for modelling the data and hence obtaining an even smaller accuracy than before)"
   ]
  },
  {
   "cell_type": "code",
   "execution_count": 8,
   "id": "7aeee0ca",
   "metadata": {},
   "outputs": [
    {
     "data": {
      "text/plain": [
       "<matplotlib.legend.Legend at 0x224afc2a6d0>"
      ]
     },
     "execution_count": 8,
     "metadata": {},
     "output_type": "execute_result"
    },
    {
     "data": {
      "image/png": "[encoded data removed]",
      "text/plain": [
       "<Figure size 432x288 with 1 Axes>"
      ]
     },
     "metadata": {
      "needs_background": "light"
     },
     "output_type": "display_data"
    }
   ],
   "source": [
    "train = []\n",
    "test = []\n",
    "size_of_tree = []\n",
    "\n",
    "for x in range(1, 215, 5):\n",
    "    clf = tree.DecisionTreeClassifier(criterion = 'entropy', min_samples_leaf = x, max_depth = None)\n",
    "    size_of_tree.append(x)\n",
    "    clf = clf.fit(X_train, Y_train)\n",
    "    Ypredicted_train = clf.predict(X_train)\n",
    "    Ypredicted_test = clf.predict(X_test)\n",
    "    test.append(accuracy_score(Y_test, Ypredicted_test))\n",
    "    train.append(accuracy_score(Y_train, Ypredicted_train))\n",
    "\n",
    "plt.plot(train, label= 'train')\n",
    "plt.plot(test, label = 'test')\n",
    "plt.xlabel('Size of minimum sample leafs')\n",
    "plt.ylabel('Accuray of Decision tree ')\n",
    "plt.legend(loc='upper center')"
   ]
  },
  {
   "cell_type": "markdown",
   "id": "59f3050a",
   "metadata": {},
   "source": [
    "At the left side of the graph the data is underfitted (the two lines are parallel) ,just when the two lines get really close we could consider it optimal and when the accuracy of the training increase at a higher rate than the testing line it is considered as overfitting"
   ]
  },
  {
   "cell_type": "markdown",
   "id": "49bc1aa7",
   "metadata": {},
   "source": [
    "# testing a bit more \n"
   ]
  },
  {
   "cell_type": "code",
   "execution_count": 3,
   "id": "08be80ed",
   "metadata": {},
   "outputs": [],
   "source": [
    "data = pd.read_csv('C:/Users/33789/Downloads/glass.csv')\n",
    "Y = data['class']\n",
    "X = data.drop(['class'],axis=1)"
   ]
  },
  {
   "cell_type": "code",
   "execution_count": 4,
   "id": "939f85d7",
   "metadata": {},
   "outputs": [],
   "source": [
    "X_train, X_test, Y_train, Y_test = train_test_split(X, Y, \n",
    "test_size=0.20, random_state=10)"
   ]
  },
  {
   "cell_type": "code",
   "execution_count": 5,
   "id": "80527b85",
   "metadata": {},
   "outputs": [
    {
     "name": "stdout",
     "output_type": "stream",
     "text": [
      "0.4327485380116959\n"
     ]
    }
   ],
   "source": [
    "clf = tree.DecisionTreeClassifier(criterion = 'entropy', max_depth=1)\n",
    "clf = clf.fit(X_train, Y_train)\n",
    "Ypredicted = clf.predict(X_train)\n",
    "acc = accuracy_score(Y_train, Ypredicted)\n",
    "print (acc)"
   ]
  },
  {
   "cell_type": "code",
   "execution_count": 6,
   "id": "286a89f3",
   "metadata": {},
   "outputs": [
    {
     "name": "stdout",
     "output_type": "stream",
     "text": [
      "0.5116279069767442\n"
     ]
    }
   ],
   "source": [
    "Ypredicted_test2 = clf.predict(X_test)\n",
    "acc = accuracy_score(Y_test, Ypredicted_test2)\n",
    "print(acc)"
   ]
  },
  {
   "cell_type": "markdown",
   "id": "aa382594",
   "metadata": {},
   "source": [
    "By reducing the size of the test set we obtained a higher accuracy, this can be explained since there is more data used to build the model thus achieving a better structured or better informed decision tree and thus obtaining a higher accuracy than when the test set was 0.34 approx 1/3 of the entire data set, in this case the test set is 1/5 of the entire dataset. \n",
    "Something very weird is presented here, the testing accuracy is bigger than the training accuracy!! this is very interesting :)"
   ]
  },
  {
   "cell_type": "code",
   "execution_count": 7,
   "id": "bfc9ba85",
   "metadata": {},
   "outputs": [
    {
     "name": "stdout",
     "output_type": "stream",
     "text": [
      " training acc\n",
      "0.46875\n",
      "testing acc\n",
      "0.4186046511627907\n"
     ]
    }
   ],
   "source": [
    "X_train, X_test, Y_train, Y_test = train_test_split(X, Y, \n",
    "test_size=0.40, random_state=10)\n",
    "clf = tree.DecisionTreeClassifier(criterion = 'entropy', max_depth=1)\n",
    "clf = clf.fit(X_train, Y_train)\n",
    "Ypredicted = clf.predict(X_train)\n",
    "acc = accuracy_score(Y_train, Ypredicted)\n",
    "print (' training acc')\n",
    "print (acc)\n",
    "Ypredicted_test2 = clf.predict(X_test)\n",
    "acc2 = accuracy_score(Y_test, Ypredicted_test2)\n",
    "print ('testing acc')\n",
    "print(acc2)"
   ]
  },
  {
   "cell_type": "markdown",
   "id": "dc3bc3b7",
   "metadata": {},
   "source": [
    "Now we reduced the training set to 3/5 and test set to 2/5, as a result we come back to our normal proportion such that the training acc is higher than the testing acc and we obtained similar accuracies to the original split of the data "
   ]
  },
  {
   "cell_type": "code",
   "execution_count": 13,
   "id": "e8fa789d",
   "metadata": {},
   "outputs": [
    {
     "data": {
      "text/plain": [
       "<matplotlib.legend.Legend at 0x224b0489e80>"
      ]
     },
     "execution_count": 13,
     "metadata": {},
     "output_type": "execute_result"
    },
    {
     "data": {
      "image/png": "[encoded data removed]",
      "text/plain": [
       "<Figure size 432x288 with 1 Axes>"
      ]
     },
     "metadata": {
      "needs_background": "light"
     },
     "output_type": "display_data"
    }
   ],
   "source": [
    "train = []\n",
    "test = []\n",
    "test_size = []\n",
    "\n",
    "for x in range(1, 100 , 1):\n",
    "    y = x/100\n",
    "    X_train, X_test, Y_train, Y_test = train_test_split(X, Y, \n",
    "test_size= y, random_state=10)\n",
    "    clf = tree.DecisionTreeClassifier(criterion = 'entropy', max_depth = None)\n",
    "    test_size.append(y)\n",
    "    clf = clf.fit(X_train, Y_train)\n",
    "    Ypredicted_train = clf.predict(X_train)\n",
    "    Ypredicted_test = clf.predict(X_test)\n",
    "    test.append(accuracy_score(Y_test, Ypredicted_test))\n",
    "    train.append(accuracy_score(Y_train, Ypredicted_train))\n",
    "\n",
    "plt.plot(train, label= 'train')\n",
    "plt.plot(test, label = 'test')\n",
    "plt.xlabel('Size of testing set')\n",
    "plt.ylabel('Accuray of Decision tree ')\n",
    "plt.legend(loc='upper center')"
   ]
  },
  {
   "cell_type": "markdown",
   "id": "44a06645",
   "metadata": {},
   "source": [
    "Since we have a multilevel tree, our training acc reaches 1.0, observing the testing line, we see that the its maximum point is when the testing set is 2/10, thus we can reflect that the optimal size of the testing set is a bit less than 1/3 "
   ]
  },
  {
   "cell_type": "markdown",
   "id": "e356a0dd",
   "metadata": {},
   "source": [
    "CHANGING RANDOM STATE "
   ]
  },
  {
   "cell_type": "code",
   "execution_count": 14,
   "id": "e2e62a1a",
   "metadata": {},
   "outputs": [
    {
     "data": {
      "text/plain": [
       "<matplotlib.legend.Legend at 0x224b0513ee0>"
      ]
     },
     "execution_count": 14,
     "metadata": {},
     "output_type": "execute_result"
    },
    {
     "data": {
      "image/png": "[encoded data removed]",
      "text/plain": [
       "<Figure size 432x288 with 1 Axes>"
      ]
     },
     "metadata": {
      "needs_background": "light"
     },
     "output_type": "display_data"
    }
   ],
   "source": [
    "train = []\n",
    "test = []\n",
    "random_state = []\n",
    "\n",
    "for x in range(1, 100 , 1):\n",
    "    X_train, X_test, Y_train, Y_test = train_test_split(X, Y, \n",
    "test_size= 0.20, random_state=x)\n",
    "    clf = tree.DecisionTreeClassifier(criterion = 'entropy', max_depth = None)\n",
    "    random_state.append(x)\n",
    "    clf = clf.fit(X_train, Y_train)\n",
    "    Ypredicted_train = clf.predict(X_train)\n",
    "    Ypredicted_test = clf.predict(X_test)\n",
    "    test.append(accuracy_score(Y_test, Ypredicted_test))\n",
    "    train.append(accuracy_score(Y_train, Ypredicted_train))\n",
    "\n",
    "plt.plot(train, label= 'train')\n",
    "plt.plot(test, label = 'test')\n",
    "plt.xlabel('Size of random state')\n",
    "plt.ylabel('Accuray of Decision tree ')\n",
    "plt.legend(loc='upper center')"
   ]
  },
  {
   "cell_type": "code",
   "execution_count": null,
   "id": "272d40d8",
   "metadata": {},
   "outputs": [],
   "source": []
  }
 ],
 "metadata": {
  "kernelspec": {
   "display_name": "Python 3 (ipykernel)",
   "language": "python",
   "name": "python3"
  },
  "language_info": {
   "codemirror_mode": {
    "name": "ipython",
    "version": 3
   },
   "file_extension": ".py",
   "mimetype": "text/x-python",
   "name": "python",
   "nbconvert_exporter": "python",
   "pygments_lexer": "ipython3",
   "version": "3.8.8"
  }
 },
 "nbformat": 4,
 "nbformat_minor": 5
}
