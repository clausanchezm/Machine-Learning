{
 "cells": [
  {
   "cell_type": "code",
   "execution_count": 2,
   "metadata": {
    "scrolled": true
   },
   "outputs": [
    {
     "name": "stdout",
     "output_type": "stream",
     "text": [
      "Populating the interactive namespace from numpy and matplotlib\n"
     ]
    },
    {
     "name": "stderr",
     "output_type": "stream",
     "text": [
      "C:\\Users\\33789\\anaconda3\\lib\\site-packages\\IPython\\core\\magics\\pylab.py:159: UserWarning: pylab import has clobbered these variables: ['gamma']\n",
      "`%matplotlib` prevents importing * from pylab and numpy\n",
      "  warn(\"pylab import has clobbered these variables: %s\"  % clobbered +\n"
     ]
    }
   ],
   "source": [
    "import numpy as np\n",
    "import matplotlib.pyplot as plt\n",
    "%pylab inline\n",
    "import random\n",
    "\n",
    "# parameters\n",
    "gridSize = 4\n",
    "states_terminal = [[0,0], [gridSize-1, gridSize-1]]\n",
    "valid_actions = [[-1, 0], [1, 0], [0, 1], [0, -1]]\n",
    "gamma = 0.1 # discount rate\n",
    "currentReward = -1\n",
    "numIterations = 100\n",
    "alpha = 0.1 #exploration factor\n",
    "\n",
    "# initialization\n",
    "Q = np.zeros((gridSize *gridSize, len(valid_actions)))\n",
    "states = [[i, j] for i in range(gridSize) for j in range(gridSize)]"
   ]
  },
  {
   "cell_type": "code",
   "execution_count": 3,
   "metadata": {},
   "outputs": [],
   "source": [
    "def generateInitialState():\n",
    "    #generate a random initial state\n",
    "    #high i sexclusive and low is inclusive \n",
    "    x = np.random.randint(low= 0, high = 4)\n",
    "    y = np.random.randint(low= 0, high = 4)\n",
    "    initialState= [x, y]\n",
    "    return initialState\n",
    "\n",
    "def generateNextAction():\n",
    "    #generate a random action from the valid set of actions\n",
    "    a = np.random.randint(low = 0, high = 4 )\n",
    "    nextAction = valid_actions[a]\n",
    "    return nextAction\n",
    "\n",
    "# define the transition function from a given state and action\n",
    "def getNextState(state, action):\n",
    "    currentReward = -1\n",
    "    #define what happens when reaching a terminal state\n",
    "    # +1 if in final state, -1 if lost\n",
    "    if state in states_terminal:\n",
    "        currentReward = 0\n",
    "        return currentReward, state\n",
    "    # here you should complete this step, the transition step\n",
    "    nextState = [sum(x) for x in zip(*[state, action])]\n",
    "   \n",
    "    # if the agent reaches a wall \n",
    "    if -1 in nextState or gridSize in nextState:\n",
    "        nextState = state\n",
    "    \n",
    "    return currentReward, nextState"
   ]
  },
  {
   "cell_type": "code",
   "execution_count": 7,
   "metadata": {},
   "outputs": [],
   "source": [
    "for it in range(numIterations):\n",
    "    currentState = generateInitialState()\n",
    "    \n",
    "    \n",
    "    while True:\n",
    "        currentAction = generateNextAction()\n",
    "        reward, nextState = getNextState(currentState, currentAction)\n",
    "        \n",
    "        #complete the stop action if the agent reached the goal state\n",
    "        if nextState in states_terminal or currentState in states_terminal: \n",
    "            break \n",
    "       \n",
    "        nextAction = generateNextAction()\n",
    "        \n",
    "        #update the Q-value function Q\n",
    "        Q[state_index(currentState), action_index(currentAction)] = (1-alpha)* Q[state_index(currentState), action_index(currentAction)] + alpha*(reward + gamma* Q[state_index(nextState),action_index(nextAction) ] )\n",
    "        \n",
    "        #assign as current state the next state\n",
    "        currentState = nextState\n",
    "        currentAction = nextAction "
   ]
  },
  {
   "cell_type": "code",
   "execution_count": 6,
   "metadata": {},
   "outputs": [],
   "source": [
    "def state_index(state):\n",
    "    i = state[0] * 4 + state[1]\n",
    "    #print(i)\n",
    "    return i\n",
    "\n",
    "def action_index(action): \n",
    "    for i in range(len(valid_actions)):\n",
    "        if valid_actions[i] == action: \n",
    "            #print(i)\n",
    "            return i "
   ]
  },
  {
   "cell_type": "code",
   "execution_count": 23,
   "metadata": {},
   "outputs": [
    {
     "data": {
      "text/plain": [
       "array([[ 0.        ,  0.        ,  0.        ,  0.        ],\n",
       "       [-0.91248701, -0.9348347 , -0.95874805,  0.        ],\n",
       "       [-1.07507718, -1.04050178, -1.05774833, -1.00834002],\n",
       "       [-1.05934537, -1.02700071, -1.02650723, -1.06568754],\n",
       "       [ 0.        , -1.02527133, -1.02938299, -0.98577783],\n",
       "       [-0.94325391, -1.08797284, -0.9904802 , -1.00183951],\n",
       "       [-1.06387133, -1.06122723, -0.95831574, -1.01574169],\n",
       "       [-0.96931177, -1.01753282, -1.0605515 , -1.03219883],\n",
       "       [-1.07894667, -1.07021707, -1.06195705, -1.07482901],\n",
       "       [-1.03501575, -1.07085438, -1.07774377, -1.09733713],\n",
       "       [-1.03295778, -1.0251814 , -1.04001559, -1.06995168],\n",
       "       [-1.01411552,  0.        , -0.96595072, -1.04052065],\n",
       "       [-1.06871466, -1.09857131, -1.09674308, -1.06796582],\n",
       "       [-1.07910705, -1.07384916, -1.06182492, -1.09330465],\n",
       "       [-0.98017274, -0.96452106,  0.        , -1.05592738],\n",
       "       [ 0.        ,  0.        ,  0.        ,  0.        ]])"
      ]
     },
     "execution_count": 23,
     "metadata": {},
     "output_type": "execute_result"
    }
   ],
   "source": [
    "Q"
   ]
  },
  {
   "cell_type": "code",
   "execution_count": 13,
   "metadata": {},
   "outputs": [],
   "source": [
    "gamma = 0.5 \n",
    "alpha = 0.1"
   ]
  },
  {
   "cell_type": "code",
   "execution_count": 15,
   "metadata": {},
   "outputs": [
    {
     "data": {
      "text/plain": [
       "array([[ 0.        ,  0.        ,  0.        ,  0.        ],\n",
       "       [-1.43519385, -1.60957448, -1.69423647,  0.        ],\n",
       "       [-1.72237055, -1.83582646, -1.85366487, -1.41165517],\n",
       "       [-1.82105669, -1.79115921, -1.83432971, -1.78855083],\n",
       "       [ 0.        , -1.65343305, -1.65902442, -1.53590636],\n",
       "       [-1.51142932, -1.76634454, -1.80230709, -1.51049587],\n",
       "       [-1.80662739, -1.76325476, -1.81431067, -1.77132221],\n",
       "       [-1.82261137, -1.57014706, -1.81431526, -1.82309353],\n",
       "       [-1.45421025, -1.79993988, -1.75513472, -1.68693808],\n",
       "       [-1.70016213, -1.62668053, -1.7681616 , -1.72795535],\n",
       "       [-1.82330026, -1.61868971, -1.52952298, -1.71964981],\n",
       "       [-1.76219041,  0.        , -1.50607687, -1.69192273],\n",
       "       [-1.72805765, -1.74396254, -1.6320347 , -1.79183576],\n",
       "       [-1.66575061, -1.53546764, -1.36923961, -1.75645077],\n",
       "       [-1.61218045, -1.2485244 ,  0.        , -1.57378078],\n",
       "       [ 0.        ,  0.        ,  0.        ,  0.        ]])"
      ]
     },
     "execution_count": 15,
     "metadata": {},
     "output_type": "execute_result"
    }
   ],
   "source": [
    "Q"
   ]
  },
  {
   "cell_type": "code",
   "execution_count": 16,
   "metadata": {},
   "outputs": [],
   "source": [
    "gamma =0.1 \n",
    "alpha = 0.5 "
   ]
  },
  {
   "cell_type": "code",
   "execution_count": 19,
   "metadata": {},
   "outputs": [
    {
     "data": {
      "text/plain": [
       "array([[ 0.        ,  0.        ,  0.        ,  0.        ],\n",
       "       [-1.04859434, -1.11033137, -1.11099404,  0.        ],\n",
       "       [-1.10949744, -1.11107551, -1.11110551, -1.09687918],\n",
       "       [-1.11110598, -1.11109201, -1.11109464, -1.11106913],\n",
       "       [ 0.        , -1.11073034, -1.1104604 , -1.11102965],\n",
       "       [-1.10676923, -1.11106264, -1.11107506, -1.10618633],\n",
       "       [-1.10825695, -1.11095211, -1.11080231, -1.11072869],\n",
       "       [-1.11110233, -1.09642679, -1.11098295, -1.1110574 ],\n",
       "       [-1.10994602, -1.11110628, -1.11101268, -1.11016695],\n",
       "       [-1.11082106, -1.11107972, -1.11011137, -1.11079217],\n",
       "       [-1.11096944, -1.10439868, -1.10994348, -1.11106064],\n",
       "       [-1.10929196,  0.        , -1.09671354, -1.11056428],\n",
       "       [-1.1101683 , -1.11107146, -1.11108103, -1.11110455],\n",
       "       [-1.11090004, -1.11086105, -1.05439979, -1.11109961],\n",
       "       [-1.10864446, -1.05158442,  0.        , -1.11108748],\n",
       "       [ 0.        ,  0.        ,  0.        ,  0.        ]])"
      ]
     },
     "execution_count": 19,
     "metadata": {},
     "output_type": "execute_result"
    }
   ],
   "source": [
    "Q"
   ]
  },
  {
   "cell_type": "code",
   "execution_count": 8,
   "metadata": {},
   "outputs": [],
   "source": [
    "gamma = 0.1 \n",
    "alpha = 1.0 "
   ]
  },
  {
   "cell_type": "code",
   "execution_count": 9,
   "metadata": {},
   "outputs": [
    {
     "data": {
      "text/plain": [
       "array([[ 0.        ,  0.        ,  0.        ,  0.        ],\n",
       "       [-0.96523339, -0.9543251 , -1.01683519,  0.        ],\n",
       "       [-1.07896748, -1.04567515, -0.96863994, -1.04394254],\n",
       "       [-1.00818952, -1.00623667, -1.05675529, -1.03631013],\n",
       "       [ 0.        , -0.93738172, -0.90884903, -0.9121636 ],\n",
       "       [-1.02247685, -1.07541011, -1.05728714, -1.01884031],\n",
       "       [-1.01787449, -1.06080468, -1.02044361, -1.09277144],\n",
       "       [-1.01816689, -0.91725318, -0.9924279 , -1.05662003],\n",
       "       [-0.99798539, -1.06001247, -1.06229239, -1.05449639],\n",
       "       [-1.06810616, -1.09124325, -1.07407086, -1.01859688],\n",
       "       [-1.07225926, -1.03690327, -1.00278275, -1.06275181],\n",
       "       [-0.97846466,  0.        , -0.93086377, -0.90318342],\n",
       "       [-1.08140459, -1.10413377, -1.08937779, -1.102553  ],\n",
       "       [-1.06391444, -1.09560987, -1.06769506, -1.09358987],\n",
       "       [-1.04677153, -1.03893837,  0.        , -1.04378286],\n",
       "       [ 0.        ,  0.        ,  0.        ,  0.        ]])"
      ]
     },
     "execution_count": 9,
     "metadata": {},
     "output_type": "execute_result"
    }
   ],
   "source": [
    "Q"
   ]
  },
  {
   "cell_type": "code",
   "execution_count": 10,
   "metadata": {},
   "outputs": [],
   "source": [
    "gamma = 1.0 \n",
    "alpha = 0.1"
   ]
  },
  {
   "cell_type": "code",
   "execution_count": 11,
   "metadata": {},
   "outputs": [
    {
     "data": {
      "text/plain": [
       "array([[ 0.        ,  0.        ,  0.        ,  0.        ],\n",
       "       [-0.96523339, -0.9543251 , -1.01683519,  0.        ],\n",
       "       [-1.07896748, -1.04567515, -0.96863994, -1.04394254],\n",
       "       [-1.00818952, -1.00623667, -1.05675529, -1.03631013],\n",
       "       [ 0.        , -0.93738172, -0.90884903, -0.9121636 ],\n",
       "       [-1.02247685, -1.07541011, -1.05728714, -1.01884031],\n",
       "       [-1.01787449, -1.06080468, -1.02044361, -1.09277144],\n",
       "       [-1.01816689, -0.91725318, -0.9924279 , -1.05662003],\n",
       "       [-0.99798539, -1.06001247, -1.06229239, -1.05449639],\n",
       "       [-1.06810616, -1.09124325, -1.07407086, -1.01859688],\n",
       "       [-1.07225926, -1.03690327, -1.00278275, -1.06275181],\n",
       "       [-0.97846466,  0.        , -0.93086377, -0.90318342],\n",
       "       [-1.08140459, -1.10413377, -1.08937779, -1.102553  ],\n",
       "       [-1.06391444, -1.09560987, -1.06769506, -1.09358987],\n",
       "       [-1.04677153, -1.03893837,  0.        , -1.04378286],\n",
       "       [ 0.        ,  0.        ,  0.        ,  0.        ]])"
      ]
     },
     "execution_count": 11,
     "metadata": {},
     "output_type": "execute_result"
    }
   ],
   "source": [
    "Q\n"
   ]
  },
  {
   "cell_type": "code",
   "execution_count": 12,
   "metadata": {},
   "outputs": [],
   "source": [
    "gamma = 1.0 \n",
    "alpha = 0.5 "
   ]
  },
  {
   "cell_type": "code",
   "execution_count": 13,
   "metadata": {},
   "outputs": [
    {
     "data": {
      "text/plain": [
       "array([[ 0.        ,  0.        ,  0.        ,  0.        ],\n",
       "       [-0.96523339, -0.9543251 , -1.01683519,  0.        ],\n",
       "       [-1.07896748, -1.04567515, -0.96863994, -1.04394254],\n",
       "       [-1.00818952, -1.00623667, -1.05675529, -1.03631013],\n",
       "       [ 0.        , -0.93738172, -0.90884903, -0.9121636 ],\n",
       "       [-1.02247685, -1.07541011, -1.05728714, -1.01884031],\n",
       "       [-1.01787449, -1.06080468, -1.02044361, -1.09277144],\n",
       "       [-1.01816689, -0.91725318, -0.9924279 , -1.05662003],\n",
       "       [-0.99798539, -1.06001247, -1.06229239, -1.05449639],\n",
       "       [-1.06810616, -1.09124325, -1.07407086, -1.01859688],\n",
       "       [-1.07225926, -1.03690327, -1.00278275, -1.06275181],\n",
       "       [-0.97846466,  0.        , -0.93086377, -0.90318342],\n",
       "       [-1.08140459, -1.10413377, -1.08937779, -1.102553  ],\n",
       "       [-1.06391444, -1.09560987, -1.06769506, -1.09358987],\n",
       "       [-1.04677153, -1.03893837,  0.        , -1.04378286],\n",
       "       [ 0.        ,  0.        ,  0.        ,  0.        ]])"
      ]
     },
     "execution_count": 13,
     "metadata": {},
     "output_type": "execute_result"
    }
   ],
   "source": [
    "Q"
   ]
  },
  {
   "cell_type": "code",
   "execution_count": 14,
   "metadata": {},
   "outputs": [],
   "source": [
    "alpha = 1.0 \n",
    "gamma = 0.5"
   ]
  },
  {
   "cell_type": "code",
   "execution_count": 15,
   "metadata": {},
   "outputs": [
    {
     "data": {
      "text/plain": [
       "array([[ 0.        ,  0.        ,  0.        ,  0.        ],\n",
       "       [-0.96523339, -0.9543251 , -1.01683519,  0.        ],\n",
       "       [-1.07896748, -1.04567515, -0.96863994, -1.04394254],\n",
       "       [-1.00818952, -1.00623667, -1.05675529, -1.03631013],\n",
       "       [ 0.        , -0.93738172, -0.90884903, -0.9121636 ],\n",
       "       [-1.02247685, -1.07541011, -1.05728714, -1.01884031],\n",
       "       [-1.01787449, -1.06080468, -1.02044361, -1.09277144],\n",
       "       [-1.01816689, -0.91725318, -0.9924279 , -1.05662003],\n",
       "       [-0.99798539, -1.06001247, -1.06229239, -1.05449639],\n",
       "       [-1.06810616, -1.09124325, -1.07407086, -1.01859688],\n",
       "       [-1.07225926, -1.03690327, -1.00278275, -1.06275181],\n",
       "       [-0.97846466,  0.        , -0.93086377, -0.90318342],\n",
       "       [-1.08140459, -1.10413377, -1.08937779, -1.102553  ],\n",
       "       [-1.06391444, -1.09560987, -1.06769506, -1.09358987],\n",
       "       [-1.04677153, -1.03893837,  0.        , -1.04378286],\n",
       "       [ 0.        ,  0.        ,  0.        ,  0.        ]])"
      ]
     },
     "execution_count": 15,
     "metadata": {},
     "output_type": "execute_result"
    }
   ],
   "source": [
    "Q"
   ]
  },
  {
   "cell_type": "code",
   "execution_count": 16,
   "metadata": {},
   "outputs": [],
   "source": [
    "alpha = 1.0 \n",
    "gamma = 1.0"
   ]
  },
  {
   "cell_type": "code",
   "execution_count": 17,
   "metadata": {},
   "outputs": [
    {
     "data": {
      "text/plain": [
       "array([[ 0.        ,  0.        ,  0.        ,  0.        ],\n",
       "       [-0.96523339, -0.9543251 , -1.01683519,  0.        ],\n",
       "       [-1.07896748, -1.04567515, -0.96863994, -1.04394254],\n",
       "       [-1.00818952, -1.00623667, -1.05675529, -1.03631013],\n",
       "       [ 0.        , -0.93738172, -0.90884903, -0.9121636 ],\n",
       "       [-1.02247685, -1.07541011, -1.05728714, -1.01884031],\n",
       "       [-1.01787449, -1.06080468, -1.02044361, -1.09277144],\n",
       "       [-1.01816689, -0.91725318, -0.9924279 , -1.05662003],\n",
       "       [-0.99798539, -1.06001247, -1.06229239, -1.05449639],\n",
       "       [-1.06810616, -1.09124325, -1.07407086, -1.01859688],\n",
       "       [-1.07225926, -1.03690327, -1.00278275, -1.06275181],\n",
       "       [-0.97846466,  0.        , -0.93086377, -0.90318342],\n",
       "       [-1.08140459, -1.10413377, -1.08937779, -1.102553  ],\n",
       "       [-1.06391444, -1.09560987, -1.06769506, -1.09358987],\n",
       "       [-1.04677153, -1.03893837,  0.        , -1.04378286],\n",
       "       [ 0.        ,  0.        ,  0.        ,  0.        ]])"
      ]
     },
     "execution_count": 17,
     "metadata": {},
     "output_type": "execute_result"
    }
   ],
   "source": [
    "Q"
   ]
  },
  {
   "cell_type": "code",
   "execution_count": 18,
   "metadata": {},
   "outputs": [],
   "source": [
    "alpha = 0.01\n",
    "gamma = 0.9"
   ]
  },
  {
   "cell_type": "code",
   "execution_count": 19,
   "metadata": {},
   "outputs": [
    {
     "data": {
      "text/plain": [
       "array([[ 0.        ,  0.        ,  0.        ,  0.        ],\n",
       "       [-0.96523339, -0.9543251 , -1.01683519,  0.        ],\n",
       "       [-1.07896748, -1.04567515, -0.96863994, -1.04394254],\n",
       "       [-1.00818952, -1.00623667, -1.05675529, -1.03631013],\n",
       "       [ 0.        , -0.93738172, -0.90884903, -0.9121636 ],\n",
       "       [-1.02247685, -1.07541011, -1.05728714, -1.01884031],\n",
       "       [-1.01787449, -1.06080468, -1.02044361, -1.09277144],\n",
       "       [-1.01816689, -0.91725318, -0.9924279 , -1.05662003],\n",
       "       [-0.99798539, -1.06001247, -1.06229239, -1.05449639],\n",
       "       [-1.06810616, -1.09124325, -1.07407086, -1.01859688],\n",
       "       [-1.07225926, -1.03690327, -1.00278275, -1.06275181],\n",
       "       [-0.97846466,  0.        , -0.93086377, -0.90318342],\n",
       "       [-1.08140459, -1.10413377, -1.08937779, -1.102553  ],\n",
       "       [-1.06391444, -1.09560987, -1.06769506, -1.09358987],\n",
       "       [-1.04677153, -1.03893837,  0.        , -1.04378286],\n",
       "       [ 0.        ,  0.        ,  0.        ,  0.        ]])"
      ]
     },
     "execution_count": 19,
     "metadata": {},
     "output_type": "execute_result"
    }
   ],
   "source": [
    "Q"
   ]
  },
  {
   "cell_type": "code",
   "execution_count": null,
   "metadata": {},
   "outputs": [],
   "source": []
  }
 ],
 "metadata": {
  "kernelspec": {
   "display_name": "Python 3 (ipykernel)",
   "language": "python",
   "name": "python3"
  },
  "language_info": {
   "codemirror_mode": {
    "name": "ipython",
    "version": 3
   },
   "file_extension": ".py",
   "mimetype": "text/x-python",
   "name": "python",
   "nbconvert_exporter": "python",
   "pygments_lexer": "ipython3",
   "version": "3.8.8"
  }
 },
 "nbformat": 4,
 "nbformat_minor": 4
}
